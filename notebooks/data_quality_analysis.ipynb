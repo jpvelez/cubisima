{
 "cells": [
  {
   "cell_type": "markdown",
   "metadata": {},
   "source": [
    "# Data quality"
   ]
  },
  {
   "cell_type": "markdown",
   "metadata": {},
   "source": [
    "## How many property listings are there?"
   ]
  },
  {
   "cell_type": "code",
   "execution_count": 1,
   "metadata": {
    "collapsed": false
   },
   "outputs": [
    {
     "name": "stderr",
     "output_type": "stream",
     "text": [
      "/Users/jpvelez/anaconda/envs/cubisima/lib/python3.5/site-packages/matplotlib/__init__.py:872: UserWarning: axes.color_cycle is deprecated and replaced with axes.prop_cycle; please use the latter.\n",
      "  warnings.warn(self.msg_depr % (key, alt_key))\n"
     ]
    }
   ],
   "source": [
    "import numpy as np\n",
    "import pandas as pd\n",
    "import matplotlib\n",
    "%matplotlib inline\n",
    "import matplotlib.pyplot as plt\n",
    "import seaborn as sns\n",
    "sns.set(style=\"whitegrid\")\n",
    "sns.set_color_codes('pastel')"
   ]
  },
  {
   "cell_type": "code",
   "execution_count": 88,
   "metadata": {
    "collapsed": true
   },
   "outputs": [],
   "source": [
    "listings = pd.read_csv('../data/listings.csv')"
   ]
  },
  {
   "cell_type": "code",
   "execution_count": 146,
   "metadata": {
    "collapsed": false
   },
   "outputs": [],
   "source": [
    "# Coerce price strings to floats.\n",
    "listings.price_num = listings.price.str.replace(',','').astype(float)"
   ]
  },
  {
   "cell_type": "code",
   "execution_count": 90,
   "metadata": {
    "collapsed": true
   },
   "outputs": [],
   "source": [
    "# For some weird reason notes and other info fields aren't strings, coerce.\n",
    "# @TODO: this coerces NaN's into 'nan'?!??!\n",
    "listings.notes_str = listings.notes.astype(str)\n",
    "listings.other_info_str = listings.other_info.astype(str)"
   ]
  },
  {
   "cell_type": "code",
   "execution_count": 4,
   "metadata": {
    "collapsed": false
   },
   "outputs": [
    {
     "data": {
      "text/plain": [
       "63863"
      ]
     },
     "execution_count": 4,
     "metadata": {},
     "output_type": "execute_result"
    }
   ],
   "source": [
    "num_listings = listings.shape[0]\n",
    "num_listings"
   ]
  },
  {
   "cell_type": "markdown",
   "metadata": {},
   "source": [
    "Looks like just under 64 thousand."
   ]
  },
  {
   "cell_type": "markdown",
   "metadata": {},
   "source": [
    "## What are the columns?"
   ]
  },
  {
   "cell_type": "code",
   "execution_count": 5,
   "metadata": {
    "collapsed": false
   },
   "outputs": [
    {
     "data": {
      "text/plain": [
       "Index(['azotea compartida', 'balcon', 'modified', 'corriente 220V',\n",
       "       'sala-comedor', 'other_info', 'cocina', 'piscina', 'location',\n",
       "       'agua las 24 horas', 'near_to', 'garaje', 'gas de balon',\n",
       "       'independiente', 'patio', 'contact_name', 'tanque instalado', 'bajos',\n",
       "       'telefono', 'placa libre', 'posibilidad de garaje', 'pasillo',\n",
       "       'corriente 110V', 'interior', 'meters_squared', 'puntal alto',\n",
       "       'num_bed', 'elevador', 'construction_era', 'num_bath', 'id',\n",
       "       'azotea libre', 'terraza', 'mobile_number', 'price', 'patinejo',\n",
       "       'puerta calle', 'pub_date', 'phone_number', 'portal', 'gas de la calle',\n",
       "       'cocina-comedor', 'hall', 'altos', 'property_type', 'saleta', 'comedor',\n",
       "       'barbacoa', 'jardin', 'notes', 'carposhe', 'sala', 'mod_date'],\n",
       "      dtype='object')"
      ]
     },
     "execution_count": 5,
     "metadata": {},
     "output_type": "execute_result"
    }
   ],
   "source": [
    "listings.columns"
   ]
  },
  {
   "cell_type": "markdown",
   "metadata": {},
   "source": [
    "## What percentage of each columns is not null?"
   ]
  },
  {
   "cell_type": "code",
   "execution_count": 6,
   "metadata": {
    "collapsed": false
   },
   "outputs": [
    {
     "data": {
      "text/plain": [
       "near_to                    2.502231\n",
       "construction_era           5.231511\n",
       "mod_date                   5.707530\n",
       "meters_squared            15.086983\n",
       "other_info                20.287177\n",
       "mobile_number             41.221051\n",
       "phone_number              76.026807\n",
       "price                     79.213316\n",
       "contact_name              85.645836\n",
       "location                  99.276576\n",
       "notes                     99.428464\n",
       "id                       100.000000\n",
       "azotea libre             100.000000\n",
       "terraza                  100.000000\n",
       "patinejo                 100.000000\n",
       "puerta calle             100.000000\n",
       "pub_date                 100.000000\n",
       "jardin                   100.000000\n",
       "num_bath                 100.000000\n",
       "cocina-comedor           100.000000\n",
       "hall                     100.000000\n",
       "altos                    100.000000\n",
       "carposhe                 100.000000\n",
       "property_type            100.000000\n",
       "saleta                   100.000000\n",
       "comedor                  100.000000\n",
       "barbacoa                 100.000000\n",
       "portal                   100.000000\n",
       "gas de la calle          100.000000\n",
       "azotea compartida        100.000000\n",
       "sala                     100.000000\n",
       "balcon                   100.000000\n",
       "modified                 100.000000\n",
       "corriente 220V           100.000000\n",
       "sala-comedor             100.000000\n",
       "cocina                   100.000000\n",
       "piscina                  100.000000\n",
       "agua las 24 horas        100.000000\n",
       "garaje                   100.000000\n",
       "gas de balon             100.000000\n",
       "elevador                 100.000000\n",
       "independiente            100.000000\n",
       "tanque instalado         100.000000\n",
       "bajos                    100.000000\n",
       "telefono                 100.000000\n",
       "placa libre              100.000000\n",
       "posibilidad de garaje    100.000000\n",
       "pasillo                  100.000000\n",
       "corriente 110V           100.000000\n",
       "interior                 100.000000\n",
       "puntal alto              100.000000\n",
       "patio                    100.000000\n",
       "num_bed                  100.000000\n",
       "dtype: float64"
      ]
     },
     "execution_count": 6,
     "metadata": {},
     "output_type": "execute_result"
    }
   ],
   "source": [
    "pct_not_null = ((listings.count() / num_listings) * 100).sort_values()\n",
    "pct_not_null"
   ]
  },
  {
   "cell_type": "markdown",
   "metadata": {},
   "source": [
    "We have price ~80% of the time, which is pretty good.\n",
    "\n",
    "We have property type, number of beds, and numbers of baths 100% of the time, which is great. Accuracy, of course, is another issue.\n",
    "\n",
    "We only have meters squared 15% of the time, and construction era, which is a proxy for construction quality, 5%. The size and quality of properties are key drivers of their price, so this will affect our ability to model prices.\n",
    "\n",
    "85% of listings have contact names, and 76% have phone numbers, which might help us filter out the serious listings from the noise.\n",
    "\n",
    "Only 5% of listings are ever modified.\n",
    "\n",
    "To see what percentage of listings have actually have content of notes and other fields, further analysis is needed, because of the way I wrote the scraper, I think.\n",
    "\n",
    "Location fields have to be cleaned up. Most only list the region."
   ]
  },
  {
   "cell_type": "markdown",
   "metadata": {},
   "source": [
    "# What percentage of amenities columns are not null?\n",
    "All amenities features are either True or False, so none are null. However, many listings appear to list no amenities whatsoever. We have to see how prevalent this is:"
   ]
  },
  {
   "cell_type": "code",
   "execution_count": 7,
   "metadata": {
    "collapsed": false
   },
   "outputs": [],
   "source": [
    "amenities = ['azotea libre', 'terraza', 'patinejo', 'puerta calle',\n",
    "             'jardin', 'cocina-comedor', 'hall', 'altos',\n",
    "             'carposhe', 'saleta', 'comedor', 'barbacoa',\n",
    "             'portal', 'gas de la calle', 'azotea compartida', 'sala', 'balcon',\n",
    "             'corriente 220V', 'sala-comedor', 'cocina', 'piscina',\n",
    "             'agua las 24 horas', 'garaje', 'gas de balon', 'elevador',\n",
    "             'independiente', 'tanque instalado', 'bajos', 'telefono',\n",
    "             'placa libre', 'posibilidad de garaje', 'pasillo', 'corriente 110V',\n",
    "             'interior', 'puntal alto', 'patio']\n",
    "\n",
    "listing_amenities = listings[amenities]"
   ]
  },
  {
   "cell_type": "code",
   "execution_count": 8,
   "metadata": {
    "collapsed": false
   },
   "outputs": [],
   "source": [
    "num_amenities_per_listing = listing_amenities.sum(axis=1)\n",
    "amenity_counts = num_amenities_per_listing.value_counts().sort_index()"
   ]
  },
  {
   "cell_type": "code",
   "execution_count": 9,
   "metadata": {
    "collapsed": false
   },
   "outputs": [
    {
     "data": {
      "text/plain": [
       "95.233546811142602"
      ]
     },
     "execution_count": 9,
     "metadata": {},
     "output_type": "execute_result"
    }
   ],
   "source": [
    "num_listings_no_amenities = amenity_counts.loc[0]\n",
    "pct_listings_no_amenities = (num_listings_no_amenities / num_listings) * 100\n",
    "pct_listings_any_amenities = 100 - pct_listings_no_amenities\n",
    "pct_listings_any_amenities"
   ]
  },
  {
   "cell_type": "markdown",
   "metadata": {},
   "source": [
    "95% of listings feature at least one amenity."
   ]
  },
  {
   "cell_type": "markdown",
   "metadata": {},
   "source": [
    "## Does the distribution of amenities per listing look reasonable? Or does it point to data collection problems?"
   ]
  },
  {
   "cell_type": "code",
   "execution_count": 10,
   "metadata": {
    "collapsed": false
   },
   "outputs": [
    {
     "data": {
      "text/plain": [
       "count    63863.000000\n",
       "mean         8.070056\n",
       "std          4.716840\n",
       "min          0.000000\n",
       "25%          5.000000\n",
       "50%          7.000000\n",
       "75%         11.000000\n",
       "max         36.000000\n",
       "dtype: float64"
      ]
     },
     "execution_count": 10,
     "metadata": {},
     "output_type": "execute_result"
    }
   ],
   "source": [
    "num_amenities_per_listing.describe()"
   ]
  },
  {
   "cell_type": "code",
   "execution_count": 11,
   "metadata": {
    "collapsed": false
   },
   "outputs": [
    {
     "data": {
      "text/plain": [
       "<matplotlib.axes._subplots.AxesSubplot at 0x10ee679e8>"
      ]
     },
     "execution_count": 11,
     "metadata": {},
     "output_type": "execute_result"
    },
    {
     "data": {
      "image/png": "[encoded data removed]",
      "text/plain": [
       "<matplotlib.figure.Figure at 0x10e8805f8>"
      ]
     },
     "metadata": {},
     "output_type": "display_data"
    }
   ],
   "source": [
    "amenity_counts.plot(kind='bar')"
   ]
  },
  {
   "cell_type": "markdown",
   "metadata": {},
   "source": [
    "Listings that have list amenities seem to follow a nice distribution, with a mean number of 8 amenities per listing. This boosts our confidence that the amenities data, although self-reported, is relatively accurate."
   ]
  },
  {
   "cell_type": "markdown",
   "metadata": {},
   "source": [
    "## What are the most popular amenities?"
   ]
  },
  {
   "cell_type": "code",
   "execution_count": 12,
   "metadata": {
    "collapsed": false
   },
   "outputs": [
    {
     "data": {
      "text/plain": [
       "<matplotlib.axes._subplots.AxesSubplot at 0x1068aacc0>"
      ]
     },
     "execution_count": 12,
     "metadata": {},
     "output_type": "execute_result"
    },
    {
     "data": {
      "image/png": "[encoded data removed]",
      "text/plain": [
       "<matplotlib.figure.Figure at 0x1092f7278>"
      ]
     },
     "metadata": {},
     "output_type": "display_data"
    }
   ],
   "source": [
    "listing_amenities.sum(axis=0).sort_values().plot(kind='bar')"
   ]
  },
  {
   "cell_type": "code",
   "execution_count": 13,
   "metadata": {
    "collapsed": false
   },
   "outputs": [
    {
     "data": {
      "text/plain": [
       "<matplotlib.text.Text at 0x1059437f0>"
      ]
     },
     "execution_count": 13,
     "metadata": {},
     "output_type": "execute_result"
    },
    {
     "data": {
      "image/png": "[encoded data removed]",
      "text/plain": [
       "<matplotlib.figure.Figure at 0x10595fba8>"
      ]
     },
     "metadata": {},
     "output_type": "display_data"
    }
   ],
   "source": [
    "num_listings_by_amenity = listing_amenities.sum(axis=0).sort_values(ascending=False).reset_index().rename(columns={0: 'counts', 'index': 'amenities'})\n",
    "\n",
    "f, ax = plt.subplots(figsize=(6, 10))\n",
    "sns.barplot(x='counts', y='amenities', data=num_listings_by_amenity, color='b')\n",
    "plt.xlabel('Total listings')"
   ]
  },
  {
   "cell_type": "markdown",
   "metadata": {},
   "source": [
    "Kitchen, living room, dining room, and patio lead the pack. Listings with only 1-4 amenities likely have only have these, and those with 5+ amenities likely have this and more.\n",
    "\n",
    "(@TODO: What combinations are the most prevalent?)\n",
    "\n",
    "Next you have terraces and services: water, gas, telephone, septic tank. \n",
    "\n",
    "Near to bottom, rarer amenities like barbeque pits, pools, elevadors and so on.\n",
    "\n",
    "This distribution looks reasonable, further increasing our confidence in the amenities data.\n",
    "\n"
   ]
  },
  {
   "cell_type": "markdown",
   "metadata": {},
   "source": [
    "## Near to"
   ]
  },
  {
   "cell_type": "code",
   "execution_count": 14,
   "metadata": {
    "collapsed": false
   },
   "outputs": [
    {
     "data": {
      "text/plain": [
       "Coopelia                             54\n",
       "23 y 12                              49\n",
       "41 y 42                              46\n",
       "23 y Paseo                           40\n",
       "Linea y Paseo                        40\n",
       "23 y G                               37\n",
       "santa catalina y 10 de octubre       36\n",
       "23 y 26                              36\n",
       "5ta y 42                             36\n",
       "acosta y 10 de octubre               36\n",
       "Boyeros y Tulipan                    35\n",
       "Infanta y San Lazaro                 34\n",
       "31 y 30                              34\n",
       "lacret y mayia                       33\n",
       "porvenir y calle B                   33\n",
       "10 de octubre y calzada de luyano    31\n",
       "19 y 70                              28\n",
       "Universidad de la Habana             28\n",
       "Santa Fe                             26\n",
       "Zoológico de 26                      26\n",
       "Cine Acapulco                        26\n",
       "Linea y G                            25\n",
       "Reina y Belascoain                   24\n",
       "100 y 51                             22\n",
       "Tunel de linea                       21\n",
       "Infanta y Carlos Tercero             20\n",
       "41 y 60                              19\n",
       "Linea y 12                           19\n",
       "Neptuno y Galiano                    18\n",
       "124 y 51                             18\n",
       "                                     ..\n",
       "Rotonda Ciudad Deportiva              6\n",
       "Paradero de Playa                     6\n",
       "Via Blanca y Buenos Aires             6\n",
       "41 y 30                               6\n",
       "San Lazaro y Galiano                  6\n",
       "Capitolio                             5\n",
       "9na y 112                             5\n",
       "San Agustin                           5\n",
       "Cementerio de la Lisa                 5\n",
       "Callejon de Hamel                     5\n",
       "Prado y Colon                         4\n",
       "Calzada del Cerro y Tulipan           4\n",
       "Monte y Belascoain                    4\n",
       "Flores                                4\n",
       "Parque 13 de marzo                    4\n",
       "porvenir y acosta                     4\n",
       "Puente Almendares                     3\n",
       "Manzana de Gomez                      3\n",
       "Nautico                               3\n",
       "El Palmar                             3\n",
       "Parque Tulipan                        2\n",
       "124 y 35                              2\n",
       "Avenida 31                            1\n",
       "31 y 10                               1\n",
       "136 y 51                              1\n",
       "Sol y 25                              1\n",
       "El Cano                               1\n",
       "Via Blanca y Palatino                 1\n",
       "25 y 17                               1\n",
       "palma                                 1\n",
       "Name: near_to, dtype: int64"
      ]
     },
     "execution_count": 14,
     "metadata": {},
     "output_type": "execute_result"
    }
   ],
   "source": [
    "listings.near_to.value_counts()"
   ]
  },
  {
   "cell_type": "markdown",
   "metadata": {},
   "source": [
    "The tiny percentage of listings with near to values seem to have pretty consistently structured data, and a long trail of placenames.\n",
    "\n",
    "Perhaps the most frequently mentioned nearby places are highly desirable, so this could be predictive of higher asking prices?"
   ]
  },
  {
   "cell_type": "markdown",
   "metadata": {},
   "source": [
    "## Construction Era"
   ]
  },
  {
   "cell_type": "code",
   "execution_count": 15,
   "metadata": {
    "collapsed": false
   },
   "outputs": [
    {
     "data": {
      "text/plain": [
       "Capitalista década del 50    1362\n",
       "Capitalista década del 40     367\n",
       "Década de los 2000            345\n",
       "Década de los 80              302\n",
       "Década de los 90              292\n",
       "Década del 60                 193\n",
       "Antes de 1940                 170\n",
       "Luego del 2010                160\n",
       "Década de los 70              150\n",
       "Name: construction_era, dtype: int64"
      ]
     },
     "execution_count": 15,
     "metadata": {},
     "output_type": "execute_result"
    }
   ],
   "source": [
    "listings.construction_era.value_counts()"
   ]
  },
  {
   "cell_type": "markdown",
   "metadata": {},
   "source": [
    "Of the few listings that have feature construction eras, most are either from right before the Revolution, or from the past couple of decades."
   ]
  },
  {
   "cell_type": "markdown",
   "metadata": {},
   "source": [
    "## Meters Squared"
   ]
  },
  {
   "cell_type": "code",
   "execution_count": 16,
   "metadata": {
    "collapsed": false
   },
   "outputs": [
    {
     "data": {
      "text/plain": [
       "count        9635.000000\n",
       "mean        22494.695589\n",
       "std       1161009.491064\n",
       "min             1.000000\n",
       "25%            72.000000\n",
       "50%           120.000000\n",
       "75%           240.000000\n",
       "max      90000000.000000\n",
       "Name: meters_squared, dtype: float64"
      ]
     },
     "execution_count": 16,
     "metadata": {},
     "output_type": "execute_result"
    }
   ],
   "source": [
    "listings.meters_squared.describe()"
   ]
  },
  {
   "cell_type": "code",
   "execution_count": 17,
   "metadata": {
    "collapsed": false
   },
   "outputs": [],
   "source": [
    "# @TODO: fix this bug\n",
    "#sns.distplot(listings.meters_squared)"
   ]
  },
  {
   "cell_type": "markdown",
   "metadata": {},
   "source": [
    "## Mobile number and contact number"
   ]
  },
  {
   "cell_type": "code",
   "execution_count": 18,
   "metadata": {
    "collapsed": false
   },
   "outputs": [
    {
     "data": {
      "text/plain": [
       "2034874                        161\n",
       "8820963                        137\n",
       "047-66972                       94\n",
       "8795870                         90\n",
       "6433093                         86\n",
       "8330582                         80\n",
       "6409761                         70\n",
       "7641873                         68\n",
       "2038375                         67\n",
       "047-66972.                      66\n",
       "52901442                        64\n",
       "2658015                         62\n",
       "2033256                         57\n",
       "2022414                         55\n",
       "8792233                         55\n",
       "52990828                        52\n",
       "205-4015                        50\n",
       "8783302                         44\n",
       "7643637                         44\n",
       "8338158                         43\n",
       "6414194                         42\n",
       "8610358                         41\n",
       "2074054*52957981                39\n",
       "8330582, 58082727               39\n",
       "643-1774 o 644-2073             38\n",
       "698 56 09 y 5363 66 60          38\n",
       "644-2073                        36\n",
       "8730679                         35\n",
       "8368820, 53226999               35\n",
       "2034938                         35\n",
       "                              ... \n",
       "05347076/6821131                 1\n",
       "2629828 o 53465095               1\n",
       "7662684                          1\n",
       "8306682                          1\n",
       "52908378                         1\n",
       "045244472                        1\n",
       "6428725                          1\n",
       "17866636651                      1\n",
       "7864453311                       1\n",
       "7944365 &oacute 53231603         1\n",
       "6918294                          1\n",
       "8325203                          1\n",
       "2728680                          1\n",
       "8762377                          1\n",
       "(07)6456503                      1\n",
       "52954580                         1\n",
       "640 6621                         1\n",
       "078308833                        1\n",
       "6833497                          1\n",
       "7666394                          1\n",
       "031   373012                     1\n",
       "201-97-18                        1\n",
       "6984810                          1\n",
       "207-55-25                        1\n",
       "53668411                         1\n",
       "7962868                          1\n",
       "52657090                         1\n",
       "58271428                         1\n",
       "261-4870                         1\n",
       " 876-16-61   y   876-19-87       1\n",
       "Name: phone_number, dtype: int64"
      ]
     },
     "execution_count": 18,
     "metadata": {},
     "output_type": "execute_result"
    }
   ],
   "source": [
    "phone_number_counts = listings.phone_number.value_counts()\n",
    "phone_number_counts"
   ]
  },
  {
   "cell_type": "code",
   "execution_count": 19,
   "metadata": {
    "collapsed": false
   },
   "outputs": [
    {
     "data": {
      "text/plain": [
       "31618"
      ]
     },
     "execution_count": 19,
     "metadata": {},
     "output_type": "execute_result"
    }
   ],
   "source": [
    "phone_number_counts.shape[0]"
   ]
  },
  {
   "cell_type": "markdown",
   "metadata": {},
   "source": [
    "There are 31,618 unique phone numbers among the 48.5K of listings with numbers. Many phone numbers are poorly formatted."
   ]
  },
  {
   "cell_type": "code",
   "execution_count": 20,
   "metadata": {
    "collapsed": false
   },
   "outputs": [
    {
     "data": {
      "text/plain": [
       "(0, 20)"
      ]
     },
     "execution_count": 20,
     "metadata": {},
     "output_type": "execute_result"
    },
    {
     "data": {
      "image/png": "[encoded data removed]",
      "text/plain": [
       "<matplotlib.figure.Figure at 0x10966e208>"
      ]
     },
     "metadata": {},
     "output_type": "display_data"
    }
   ],
   "source": [
    "phone_number_counts.hist(bins=160)\n",
    "plt.xlim((0, 20))"
   ]
  },
  {
   "cell_type": "code",
   "execution_count": 21,
   "metadata": {
    "collapsed": false
   },
   "outputs": [
    {
     "data": {
      "text/plain": [
       "23.48978430008223"
      ]
     },
     "execution_count": 21,
     "metadata": {},
     "output_type": "execute_result"
    }
   ],
   "source": [
    "num_unique_phone_numbers = phone_number_counts.shape[0]\n",
    "num_numbers_two_plus_listings = phone_number_counts[phone_number_counts > 1].shape[0]\n",
    "num_numbers_two_plus_listings / num_unique_phone_numbers * 100"
   ]
  },
  {
   "cell_type": "code",
   "execution_count": 22,
   "metadata": {
    "collapsed": false
   },
   "outputs": [
    {
     "data": {
      "text/plain": [
       "9.273198810803972"
      ]
     },
     "execution_count": 22,
     "metadata": {},
     "output_type": "execute_result"
    }
   ],
   "source": [
    "num_numbers_three_plus_listings = phone_number_counts[phone_number_counts > 2].shape[0]\n",
    "num_numbers_three_plus_listings / num_unique_phone_numbers * 100"
   ]
  },
  {
   "cell_type": "markdown",
   "metadata": {},
   "source": [
    "23% of phone numbers appear in two listings or more.\n",
    "9% of numbers appear in three listings or more. These might indicates listings posted by brokers, or that the listing is repeated.\n",
    "\n",
    "@TODO: What's the right way of thinking about / analyzing this?"
   ]
  },
  {
   "cell_type": "markdown",
   "metadata": {},
   "source": [
    "## Contact name"
   ]
  },
  {
   "cell_type": "code",
   "execution_count": 23,
   "metadata": {
    "collapsed": false
   },
   "outputs": [
    {
     "data": {
      "text/plain": [
       "sergio                                                                364\n",
       "carlos                                                                256\n",
       "jorge                                                                 252\n",
       "lazaro                                                                195\n",
       "alejandro                                                             194\n",
       "ernesto                                                               184\n",
       "mercedes                                                              162\n",
       "maria                                                                 160\n",
       "juan manuel                                                           158\n",
       "lourdes                                                               154\n",
       "luis                                                                  148\n",
       "ana                                                                   130\n",
       "roberto                                                               126\n",
       "mayra                                                                 125\n",
       "Jorge Luis                                                            125\n",
       "alberto                                                               124\n",
       "tania                                                                 124\n",
       "frank                                                                 122\n",
       "michel                                                                120\n",
       "melissa                                                               120\n",
       "eduardo                                                               120\n",
       "jorge luis                                                            120\n",
       "raul                                                                  116\n",
       "mario                                                                 112\n",
       "alina                                                                 110\n",
       "carmen                                                                110\n",
       "alex                                                                  109\n",
       "pedro                                                                 108\n",
       "mary                                                                  103\n",
       "fidel                                                                 102\n",
       "                                                                     ... \n",
       "igraine                                                                 1\n",
       "saray o darién (preferiblemente saray)                                  1\n",
       "ricardo o niurka                                                        1\n",
       "Aridelia                                                                1\n",
       "adiaseb                                                                 1\n",
       "carlos o amaralys                                                       1\n",
       "poly                                                                    1\n",
       "Noel Lorenzo Font Font                                                  1\n",
       "quian                                                                   1\n",
       "angel/ reglita                                                          1\n",
       "El Moro                                                                 1\n",
       "TELMO                                                                   1\n",
       "Rodolfo despues 6 pm                                                    1\n",
       "Elba o Magalys                                                          1\n",
       "magdalena Cardosa                                                       1\n",
       "lisett o alcides                                                        1\n",
       "Aimee ó Raul                                                            1\n",
       "belkis o lazaro                                                         1\n",
       "mijail                                                                  1\n",
       "lourruizgu@gmail.com, Lourdes                                           1\n",
       "Rayco                                                                   1\n",
       "normando (mandy)                                                        1\n",
       "martha o lore                                                           1\n",
       "sara o lisadro                                                          1\n",
       "Ana María Fernádez                                                      1\n",
       "neyi                                                                    1\n",
       "Jesús Mena, email: jmenac@infomed.sld.cu y jesus.mena@cigb.edu.cu       1\n",
       "eduardo o rosa                                                          1\n",
       "Martica o Marlen                                                        1\n",
       "Rudy o Carmen                                                           1\n",
       "Name: contact_name, dtype: int64"
      ]
     },
     "execution_count": 23,
     "metadata": {},
     "output_type": "execute_result"
    }
   ],
   "source": [
    "contact_name_counts = listings.contact_name.value_counts()\n",
    "contact_name_counts"
   ]
  },
  {
   "cell_type": "code",
   "execution_count": 24,
   "metadata": {
    "collapsed": false
   },
   "outputs": [
    {
     "data": {
      "text/plain": [
       "20700"
      ]
     },
     "execution_count": 24,
     "metadata": {},
     "output_type": "execute_result"
    }
   ],
   "source": [
    "num_unique_contact_names = contact_name_counts.shape[0]\n",
    "num_unique_contact_names"
   ]
  },
  {
   "cell_type": "markdown",
   "metadata": {},
   "source": [
    "There are 20K unique contact names among the 54.7K listings with contact names. However, most contact names are only first name, so there are lots of duplicates.\n"
   ]
  },
  {
   "cell_type": "markdown",
   "metadata": {},
   "source": [
    "## Number of sellers on site\n",
    "To figure out the number of unique people putting up listings on the site, we'd have the clean up the numbers and names and count the number of unique combinations.\n",
    "\n",
    "Here's a rough estimate:"
   ]
  },
  {
   "cell_type": "code",
   "execution_count": 25,
   "metadata": {
    "collapsed": false
   },
   "outputs": [
    {
     "data": {
      "text/plain": [
       "34825"
      ]
     },
     "execution_count": 25,
     "metadata": {},
     "output_type": "execute_result"
    }
   ],
   "source": [
    "num_listers = (listings.phone_number + listings.contact_name).nunique()\n",
    "num_listers"
   ]
  },
  {
   "cell_type": "code",
   "execution_count": 26,
   "metadata": {
    "collapsed": false
   },
   "outputs": [
    {
     "data": {
      "text/plain": [
       "58052"
      ]
     },
     "execution_count": 26,
     "metadata": {},
     "output_type": "execute_result"
    }
   ],
   "source": [
    "listings_with_phone_numbers = ~listings.phone_number.isnull()\n",
    "listings_with_contact_names = ~listings.contact_name.isnull()\n",
    "num_identified_listings = (listings_with_phone_numbers | listings_with_contact_names).sum()\n",
    "num_identified_listings"
   ]
  },
  {
   "cell_type": "code",
   "execution_count": 27,
   "metadata": {
    "collapsed": false
   },
   "outputs": [
    {
     "data": {
      "text/plain": [
       "1.6669633883704236"
      ]
     },
     "execution_count": 27,
     "metadata": {},
     "output_type": "execute_result"
    }
   ],
   "source": [
    "num_identified_listings / num_listers"
   ]
  },
  {
   "cell_type": "markdown",
   "metadata": {},
   "source": [
    "There are roughly 34K unique listers littered among the 58K listings with either a phone number or name listed. There are roughly 1.6 posts per lister."
   ]
  },
  {
   "cell_type": "markdown",
   "metadata": {},
   "source": [
    "## Notes"
   ]
  },
  {
   "cell_type": "code",
   "execution_count": 35,
   "metadata": {
    "collapsed": false
   },
   "outputs": [
    {
     "data": {
      "text/plain": [
       "0                                                    -\n",
       "1    se compra terreno en cualquier parte de la habana\n",
       "2                                                  NaN\n",
       "3               COMPRO BOVEDA EN ELCEMENTERIO DE COLON\n",
       "Name: notes, dtype: object"
      ]
     },
     "execution_count": 35,
     "metadata": {},
     "output_type": "execute_result"
    }
   ],
   "source": [
    "listings.notes.head(4)"
   ]
  },
  {
   "cell_type": "markdown",
   "metadata": {},
   "source": [
    "Due to the way the scraper is written, a good number of note value only contain the \"-\" character. \n",
    "\n",
    "@TODO: rewrite scraper to output None instead of -."
   ]
  },
  {
   "cell_type": "code",
   "execution_count": 38,
   "metadata": {
    "collapsed": false
   },
   "outputs": [
    {
     "data": {
      "text/plain": [
       "92.618574135258285"
      ]
     },
     "execution_count": 38,
     "metadata": {},
     "output_type": "execute_result"
    }
   ],
   "source": [
    "num_blank_notes = listings[listings.notes == '-'].shape[0]\n",
    "pct_blank_notes = num_blank_notes / num_listings * 100\n",
    "true_pct_blank_not_null = pct_not_null.notes - pct_blank_notes\n",
    "true_pct_blank_not_null\n"
   ]
  },
  {
   "cell_type": "markdown",
   "metadata": {},
   "source": [
    "Once we account for these blank descriptions, 92% of listings still have note fields."
   ]
  },
  {
   "cell_type": "code",
   "execution_count": 79,
   "metadata": {
    "collapsed": false
   },
   "outputs": [
    {
     "data": {
      "text/plain": [
       "(0, 200)"
      ]
     },
     "execution_count": 79,
     "metadata": {},
     "output_type": "execute_result"
    },
    {
     "data": {
      "image/png": "[encoded data removed]",
      "text/plain": [
       "<matplotlib.figure.Figure at 0x14959c630>"
      ]
     },
     "metadata": {},
     "output_type": "display_data"
    }
   ],
   "source": [
    "words_per_note = listings.notes_str.apply(lambda s: len(s.split()))\n",
    "sns.distplot(words_per_note[words_per_note < 200])\n",
    "plt.xlim((0,200))"
   ]
  },
  {
   "cell_type": "code",
   "execution_count": 80,
   "metadata": {
    "collapsed": false
   },
   "outputs": [
    {
     "data": {
      "text/plain": [
       "count    63863.000000\n",
       "mean        73.370293\n",
       "std        193.317542\n",
       "min          0.000000\n",
       "25%         27.000000\n",
       "50%         53.000000\n",
       "75%         89.000000\n",
       "max      10034.000000\n",
       "Name: notes, dtype: float64"
      ]
     },
     "execution_count": 80,
     "metadata": {},
     "output_type": "execute_result"
    }
   ],
   "source": [
    "words_per_note.describe()"
   ]
  },
  {
   "cell_type": "markdown",
   "metadata": {},
   "source": [
    "The median number of words per note is 53, with a large amount of variation. There might be good stuff to mine here."
   ]
  },
  {
   "cell_type": "code",
   "execution_count": null,
   "metadata": {
    "collapsed": true
   },
   "outputs": [],
   "source": [
    "# Other info"
   ]
  },
  {
   "cell_type": "code",
   "execution_count": 101,
   "metadata": {
    "collapsed": false
   },
   "outputs": [],
   "source": [
    "# Only have to do this because otherwise NaN coerce to 'nan'..\n",
    "listings_other_info_not_null = listings.other_info[~listings.other_info.isnull()]\n",
    "words_per_other_info = listings_other_info_not_null.apply(lambda s: len(s.split()))\n"
   ]
  },
  {
   "cell_type": "code",
   "execution_count": 107,
   "metadata": {
    "collapsed": false
   },
   "outputs": [
    {
     "data": {
      "text/plain": [
       "3     3444\n",
       "2     1102\n",
       "0      846\n",
       "6      658\n",
       "5      625\n",
       "4      597\n",
       "7      525\n",
       "8      514\n",
       "1      457\n",
       "10     435\n",
       "9      415\n",
       "11     346\n",
       "12     345\n",
       "13     294\n",
       "14     251\n",
       "15     206\n",
       "16     197\n",
       "17     156\n",
       "19     146\n",
       "18     128\n",
       "20     125\n",
       "21     113\n",
       "22     103\n",
       "24      97\n",
       "23      79\n",
       "28      72\n",
       "26      70\n",
       "25      68\n",
       "27      59\n",
       "31      57\n",
       "30      48\n",
       "29      42\n",
       "32      42\n",
       "34      39\n",
       "33      38\n",
       "35      38\n",
       "37      29\n",
       "36      25\n",
       "38      25\n",
       "39      19\n",
       "40      17\n",
       "41      13\n",
       "42      11\n",
       "44      11\n",
       "43      10\n",
       "49       6\n",
       "48       4\n",
       "45       4\n",
       "50       2\n",
       "51       1\n",
       "46       1\n",
       "47       1\n",
       "Name: other_info, dtype: int64"
      ]
     },
     "execution_count": 107,
     "metadata": {},
     "output_type": "execute_result"
    }
   ],
   "source": [
    "words_per_other_info.value_counts()"
   ]
  },
  {
   "cell_type": "code",
   "execution_count": 112,
   "metadata": {
    "collapsed": false
   },
   "outputs": [
    {
     "data": {
      "text/plain": [
       "(0, 25)"
      ]
     },
     "execution_count": 112,
     "metadata": {},
     "output_type": "execute_result"
    },
    {
     "data": {
      "image/png": "[encoded data removed]",
      "text/plain": [
       "<matplotlib.figure.Figure at 0x14e99b400>"
      ]
     },
     "metadata": {},
     "output_type": "display_data"
    }
   ],
   "source": [
    "words_per_other_info.value_counts().sort_index().plot(kind='bar')\n",
    "plt.xlim((0, 25))\n",
    "# TODO: HOW TO MAKE THESE WILL?\n",
    "# sns.distplot(words_per_listing[words_per_listing < 10], bins=10)"
   ]
  },
  {
   "cell_type": "code",
   "execution_count": 113,
   "metadata": {
    "collapsed": false
   },
   "outputs": [
    {
     "data": {
      "text/plain": [
       "count    12956.000000\n",
       "mean         7.937249\n",
       "std          8.174326\n",
       "min          0.000000\n",
       "25%          3.000000\n",
       "50%          5.000000\n",
       "75%         11.000000\n",
       "max         51.000000\n",
       "Name: other_info, dtype: float64"
      ]
     },
     "execution_count": 113,
     "metadata": {},
     "output_type": "execute_result"
    }
   ],
   "source": [
    "words_per_other_info.describe()"
   ]
  },
  {
   "cell_type": "markdown",
   "metadata": {},
   "source": [
    "There's a lot less information in this field.."
   ]
  },
  {
   "cell_type": "markdown",
   "metadata": {},
   "source": [
    "## Location"
   ]
  },
  {
   "cell_type": "code",
   "execution_count": 127,
   "metadata": {
    "collapsed": false
   },
   "outputs": [
    {
     "data": {
      "text/plain": [
       "2    63103\n",
       "3      297\n",
       "4        1\n",
       "Name: location, dtype: int64"
      ]
     },
     "execution_count": 127,
     "metadata": {},
     "output_type": "execute_result"
    }
   ],
   "source": [
    "locations_not_null = listings.location[~listings.location.isnull()]\n",
    "locations_not_null.apply(lambda s: len(s.split('en '))).value_counts()\n"
   ]
  },
  {
   "cell_type": "markdown",
   "metadata": {},
   "source": [
    "If you split the locations on \"en \", the vast majority of fields only get two values out of that.\n",
    "Some of the first values are empty, some are streets:"
   ]
  },
  {
   "cell_type": "code",
   "execution_count": 142,
   "metadata": {
    "collapsed": false
   },
   "outputs": [
    {
     "data": {
      "text/plain": [
       "16933"
      ]
     },
     "execution_count": 142,
     "metadata": {},
     "output_type": "execute_result"
    }
   ],
   "source": [
    "num_first_not_empty = locations_not_null.apply(lambda s: s.split('en ')[0]).value_counts().shape[0]\n",
    "num_first_not_empty"
   ]
  },
  {
   "cell_type": "code",
   "execution_count": 143,
   "metadata": {
    "collapsed": false
   },
   "outputs": [
    {
     "data": {
      "text/plain": [
       "0.2670778063437485"
      ]
     },
     "execution_count": 143,
     "metadata": {},
     "output_type": "execute_result"
    }
   ],
   "source": [
    "num_first_not_empty / (63103 + 297 + 1)"
   ]
  },
  {
   "cell_type": "markdown",
   "metadata": {},
   "source": [
    "About 26% of them are not empty. In other words, 26% of the records have streets.\n",
    "\n",
    "@TODO: Parse the strings, measure these things precisely."
   ]
  },
  {
   "cell_type": "code",
   "execution_count": 135,
   "metadata": {
    "collapsed": false
   },
   "outputs": [
    {
     "data": {
      "text/plain": [
       "3    34424\n",
       "2    28977\n",
       "Name: location, dtype: int64"
      ]
     },
     "execution_count": 135,
     "metadata": {},
     "output_type": "execute_result"
    }
   ],
   "source": [
    "locations_not_null.apply(lambda s: len(s.split('en ')[-1].split(', '))).value_counts()"
   ]
  },
  {
   "cell_type": "markdown",
   "metadata": {},
   "source": [
    "Of all the location strings after the last 'en', some have 3 locations while others have two.\n",
    "For those that have three, perhaps we just need the last two? Or we concatenate the first two?\n",
    "\n",
    "Overall, we have\n",
    "\n",
    "(streets optional), (nabe 1 optional), (nabe 2), (city)"
   ]
  },
  {
   "cell_type": "markdown",
   "metadata": {},
   "source": [
    "## Asking price"
   ]
  },
  {
   "cell_type": "code",
   "execution_count": 152,
   "metadata": {
    "collapsed": false
   },
   "outputs": [],
   "source": [
    "listings_with_price = listings.price[~listings.price.isnull()]\n",
    "clean_listing_prices = listings_with_price.apply(lambda s: float(s.replace(',', '')))"
   ]
  },
  {
   "cell_type": "code",
   "execution_count": 161,
   "metadata": {
    "collapsed": false
   },
   "outputs": [
    {
     "data": {
      "text/plain": [
       "<matplotlib.axes._subplots.AxesSubplot at 0x17441ee80>"
      ]
     },
     "execution_count": 161,
     "metadata": {},
     "output_type": "execute_result"
    },
    {
     "data": {
      "image/png": "[encoded data removed]",
      "text/plain": [
       "<matplotlib.figure.Figure at 0x17441ef60>"
      ]
     },
     "metadata": {},
     "output_type": "display_data"
    }
   ],
   "source": [
    "plt.figure()\n",
    "sns.distplot(clean_listing_prices[clean_listing_prices < 200000], bins=200)"
   ]
  },
  {
   "cell_type": "code",
   "execution_count": 162,
   "metadata": {
    "collapsed": false
   },
   "outputs": [
    {
     "data": {
      "text/plain": [
       "<matplotlib.axes._subplots.AxesSubplot at 0x16ed29278>"
      ]
     },
     "execution_count": 162,
     "metadata": {},
     "output_type": "execute_result"
    },
    {
     "data": {
      "image/png": "[encoded data removed]",
      "text/plain": [
       "<matplotlib.figure.Figure at 0x170387a58>"
      ]
     },
     "metadata": {},
     "output_type": "display_data"
    }
   ],
   "source": [
    "plt.figure()\n",
    "sns.distplot(clean_listing_prices[clean_listing_prices < 200000], bins=600)"
   ]
  },
  {
   "cell_type": "code",
   "execution_count": 163,
   "metadata": {
    "collapsed": false
   },
   "outputs": [
    {
     "data": {
      "text/plain": [
       "<matplotlib.axes._subplots.AxesSubplot at 0x174316748>"
      ]
     },
     "execution_count": 163,
     "metadata": {},
     "output_type": "execute_result"
    },
    {
     "data": {
      "image/png": "[encoded data removed]",
      "text/plain": [
       "<matplotlib.figure.Figure at 0x173833f60>"
      ]
     },
     "metadata": {},
     "output_type": "display_data"
    }
   ],
   "source": [
    "plt.figure()\n",
    "sns.distplot(clean_listing_prices[clean_listing_prices < 200000], bins=2000)"
   ]
  },
  {
   "cell_type": "markdown",
   "metadata": {},
   "source": [
    "@TODO: FIX THIS!"
   ]
  }
 ],
 "metadata": {
  "kernelspec": {
   "display_name": "Python 3",
   "language": "python",
   "name": "python3"
  },
  "language_info": {
   "codemirror_mode": {
    "name": "ipython",
    "version": 3
   },
   "file_extension": ".py",
   "mimetype": "text/x-python",
   "name": "python",
   "nbconvert_exporter": "python",
   "pygments_lexer": "ipython3",
   "version": "3.5.1"
  }
 },
 "nbformat": 4,
 "nbformat_minor": 0
}
